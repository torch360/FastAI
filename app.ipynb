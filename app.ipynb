{
 "cells": [
  {
   "cell_type": "markdown",
   "id": "d71d474e",
   "metadata": {},
   "source": [
    "## Car Classifier\n",
    "Choose a PNG file of a Lamborghini, Mclaren, Pagani, Ferrari or a Koenigsegg to classify."
   ]
  },
  {
   "cell_type": "code",
   "execution_count": 15,
   "id": "4a6153d5-f58d-4e26-ad26-1d3af0c25633",
   "metadata": {},
   "outputs": [],
   "source": [
    "from fastai.vision.all import *\n",
    "from fastai.vision.widgets import *\n",
    "import gradio as gr"
   ]
  },
  {
   "cell_type": "code",
   "execution_count": 16,
   "id": "09eaf79b",
   "metadata": {},
   "outputs": [],
   "source": [
    "learn = load_learner('export.pkl')"
   ]
  },
  {
   "cell_type": "code",
   "execution_count": 17,
   "id": "24b9e084",
   "metadata": {},
   "outputs": [],
   "source": [
    "import warnings\n",
    "warnings.filterwarnings(\"ignore\")"
   ]
  },
  {
   "cell_type": "code",
   "execution_count": 18,
   "id": "2c2b5f96-9b5d-49ab-8ea6-01e4b745630b",
   "metadata": {},
   "outputs": [],
   "source": [
    "car_types = ('Ferrari','Koenigsegg', 'Lamborghini', 'Mclaren', 'Pagani')"
   ]
  },
  {
   "cell_type": "code",
   "execution_count": 19,
   "id": "5556a071-667c-4dca-9567-e85f1dcdfe6a",
   "metadata": {},
   "outputs": [],
   "source": [
    "def image_classifier(im):\n",
    "    pred = learn.predict(im)\n",
    "    print(pred)\n",
    "    return {car_types[i]: pred[2][i].item() for i in range(0,5)}"
   ]
  },
  {
   "cell_type": "code",
   "execution_count": 20,
   "id": "b0aa9c4c-fe7d-43a0-ae41-22f7def186e0",
   "metadata": {},
   "outputs": [],
   "source": [
    "iface = gr.Interface(\n",
    "    image_classifier,\n",
    "    gr.inputs.Image(shape=(224, 224)),\n",
    "    gr.outputs.Label(num_top_classes=5),\n",
    "    interpretation=\"default\")"
   ]
  },
  {
   "cell_type": "code",
   "execution_count": 21,
   "id": "1d1a3e2b-c8f1-407a-b0ce-57d07b566bde",
   "metadata": {
    "scrolled": true
   },
   "outputs": [
    {
     "name": "stdout",
     "output_type": "stream",
     "text": [
      "Running on local URL:  http://127.0.0.1:7862/\n",
      "Running on public URL: https://20308.gradio.app\n",
      "\n",
      "This share link expires in 72 hours. For free permanent hosting, check out Spaces (https://huggingface.co/spaces)\n"
     ]
    },
    {
     "data": {
      "text/html": [
       "<div><iframe src=\"https://20308.gradio.app\" width=\"900\" height=\"500\" allow=\"autoplay; camera; microphone;\" frameborder=\"0\" allowfullscreen></iframe></div>"
      ],
      "text/plain": [
       "<IPython.core.display.HTML object>"
      ]
     },
     "metadata": {},
     "output_type": "display_data"
    },
    {
     "data": {
      "text/plain": [
       "(<gradio.routes.App at 0x292f03a30>,\n",
       " 'http://127.0.0.1:7862/',\n",
       " 'https://20308.gradio.app')"
      ]
     },
     "execution_count": 21,
     "metadata": {},
     "output_type": "execute_result"
    }
   ],
   "source": [
    "iface.launch(share=True)"
   ]
  },
  {
   "cell_type": "code",
   "execution_count": null,
   "id": "dad42e27",
   "metadata": {},
   "outputs": [],
   "source": []
  }
 ],
 "metadata": {
  "kernelspec": {
   "display_name": "Python 3 (ipykernel)",
   "language": "python",
   "name": "python3"
  },
  "language_info": {
   "codemirror_mode": {
    "name": "ipython",
    "version": 3
   },
   "file_extension": ".py",
   "mimetype": "text/x-python",
   "name": "python",
   "nbconvert_exporter": "python",
   "pygments_lexer": "ipython3",
   "version": "3.10.1"
  }
 },
 "nbformat": 4,
 "nbformat_minor": 5
}
